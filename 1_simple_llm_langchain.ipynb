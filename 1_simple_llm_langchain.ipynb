{
 "cells": [
  {
   "cell_type": "code",
   "execution_count": 14,
   "metadata": {},
   "outputs": [
    {
     "name": "stdout",
     "output_type": "stream",
     "text": [
      "Note: you may need to restart the kernel to use updated packages.\n"
     ]
    }
   ],
   "source": [
    "%pip install langchain langchain-openai --quiet"
   ]
  },
  {
   "cell_type": "code",
   "execution_count": 15,
   "metadata": {},
   "outputs": [
    {
     "name": "stdout",
     "output_type": "stream",
     "text": [
      "Note: you may need to restart the kernel to use updated packages.\n"
     ]
    },
    {
     "data": {
      "text/plain": [
       "True"
      ]
     },
     "execution_count": 15,
     "metadata": {},
     "output_type": "execute_result"
    }
   ],
   "source": [
    "%pip install python-dotenv --quiet\n",
    "import dotenv\n",
    "dotenv.load_dotenv()"
   ]
  },
  {
   "cell_type": "code",
   "execution_count": 16,
   "metadata": {},
   "outputs": [
    {
     "name": "stdout",
     "output_type": "stream",
     "text": [
      "\n",
      "\n",
      "#!/bin/bash\n",
      "\n",
      "# get list of all files in current directory\n",
      "files=$(ls)\n",
      "\n",
      "# loop through files and print each one\n",
      "for file in $files\n",
      "do\n",
      "  echo \"$file\"\n",
      "done\n",
      "\n",
      "# end of script\n"
     ]
    }
   ],
   "source": [
    "from langchain_openai import OpenAI\n",
    "llm = OpenAI()\n",
    "answer = llm.invoke(\"Generate me shell script that will list all files in the current directory.\")\n",
    "print(answer)\n"
   ]
  },
  {
   "cell_type": "code",
   "execution_count": 20,
   "metadata": {},
   "outputs": [
    {
     "ename": "NameError",
     "evalue": "name 'pretty_print_callback_handler' is not defined",
     "output_type": "error",
     "traceback": [
      "\u001b[0;31m---------------------------------------------------------------------------\u001b[0m",
      "\u001b[0;31mNameError\u001b[0m                                 Traceback (most recent call last)",
      "Cell \u001b[0;32mIn[20], line 2\u001b[0m\n\u001b[1;32m      1\u001b[0m \u001b[38;5;66;03m# Use a callback handler\u001b[39;00m\n\u001b[0;32m----> 2\u001b[0m callback \u001b[38;5;241m=\u001b[39m \u001b[43mpretty_print_callback_handler\u001b[49m\u001b[38;5;241m.\u001b[39mPrettyPrintCallbackHandler()\n\u001b[1;32m      3\u001b[0m llm \u001b[38;5;241m=\u001b[39m OpenAI(streaming\u001b[38;5;241m=\u001b[39m\u001b[38;5;28;01mTrue\u001b[39;00m, temperature\u001b[38;5;241m=\u001b[39m\u001b[38;5;241m0\u001b[39m , callbacks\u001b[38;5;241m=\u001b[39m[callback])\n\u001b[1;32m      4\u001b[0m llm\u001b[38;5;241m.\u001b[39minvoke(\u001b[38;5;124m\"\u001b[39m\u001b[38;5;124mWhere is Ghent?\u001b[39m\u001b[38;5;124m\"\u001b[39m)\n",
      "\u001b[0;31mNameError\u001b[0m: name 'pretty_print_callback_handler' is not defined"
     ]
    }
   ],
   "source": [
    "# Use a callback handler\n",
    "from pretty_print_callback_handler import PrettyPrintCallbackHandler\n",
    "callback = PrettyPrintCallbackHandler()\n",
    "llm = OpenAI(streaming=True, temperature=0 , callbacks=[callback])\n",
    "llm.invoke(\"Where is Ghent?\")"
   ]
  }
 ],
 "metadata": {
  "kernelspec": {
   "display_name": "workshop-agents-DUG816Iy-py3.12",
   "language": "python",
   "name": "python3"
  },
  "language_info": {
   "codemirror_mode": {
    "name": "ipython",
    "version": 3
   },
   "file_extension": ".py",
   "mimetype": "text/x-python",
   "name": "python",
   "nbconvert_exporter": "python",
   "pygments_lexer": "ipython3",
   "version": "3.12.3"
  }
 },
 "nbformat": 4,
 "nbformat_minor": 2
}
