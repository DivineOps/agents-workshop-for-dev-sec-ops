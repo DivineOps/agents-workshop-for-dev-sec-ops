{
 "cells": [
  {
   "cell_type": "code",
   "execution_count": 7,
   "metadata": {},
   "outputs": [
    {
     "name": "stdout",
     "output_type": "stream",
     "text": [
      "Note: you may need to restart the kernel to use updated packages.\n"
     ]
    }
   ],
   "source": [
    "%pip install langchain langchain-openai langchainhub --quiet"
   ]
  },
  {
   "cell_type": "markdown",
   "metadata": {},
   "source": [
    "# example from https://python.langchain.com/v0.1/docs/modules/agents/agent_types/react/"
   ]
  },
  {
   "cell_type": "code",
   "execution_count": 8,
   "metadata": {},
   "outputs": [],
   "source": [
    "from langchain import hub\n",
    "from langchain.agents import AgentExecutor, create_react_agent\n",
    "from langchain_openai import OpenAI"
   ]
  },
  {
   "cell_type": "code",
   "execution_count": 9,
   "metadata": {},
   "outputs": [],
   "source": [
    "# Get the prompt to use - you can modify this!\n",
    "prompt = hub.pull(\"hwchase17/react\")\n",
    "\n",
    "# Choose the LLM to use\n",
    "llm = OpenAI()\n",
    "\n",
    "tools = []\n",
    "\n",
    "# Construct the ReAct agent\n",
    "agent = create_react_agent(llm, tools, prompt)"
   ]
  },
  {
   "cell_type": "code",
   "execution_count": 10,
   "metadata": {},
   "outputs": [],
   "source": [
    "# Create an agent executor by passing in the agent and tools\n",
    "agent_executor = AgentExecutor(agent=agent, tools=tools, verbose=True)"
   ]
  },
  {
   "cell_type": "code",
   "execution_count": 12,
   "metadata": {},
   "outputs": [
    {
     "name": "stdout",
     "output_type": "stream",
     "text": [
      "\n",
      "\n",
      "\u001b[1m> Entering new AgentExecutor chain...\u001b[0m\n",
      "\u001b[32;1m\u001b[1;3m I can use the ls command to list files in the current directory.\n",
      "Action: [ls]\n",
      "Action Input: -l (to display in long format)\u001b[0m[ls] is not a valid tool, try one of [].\u001b[32;1m\u001b[1;3m Oops, I need to use the shell to run the command.\n",
      "Action: [bash]\n",
      "Action Input: -c (to run a single command)\u001b[0m[bash] is not a valid tool, try one of [].\u001b[32;1m\u001b[1;3m I can use the echo command to output the script as markdown code block.\n",
      "Action: [echo]\n",
      "Action Input: ` ```bash` (to start the markdown code block)\u001b[0m[echo] is not a valid tool, try one of [].\u001b[32;1m\u001b[1;3m I should use the backslash character to escape the special characters.\n",
      "Action: [echo]\n",
      "Action Input: ` \\` `` (to escape the backtick character)\u001b[0m[echo] is not a valid tool, try one of [].\u001b[32;1m\u001b[1;3m I can use the \"ls -l\" command to list files in long format.\n",
      "Action: [echo]\n",
      "Action Input: ` ```bash` (to end the markdown code block)\u001b[0m[echo] is not a valid tool, try one of [].\u001b[32;1m\u001b[1;3m I now know the final answer.\n",
      "Final Answer: ```bash\n",
      "ls -l\n",
      "```\n",
      "\u001b[0m\n",
      "\n",
      "\u001b[1m> Finished chain.\u001b[0m\n"
     ]
    },
    {
     "data": {
      "text/plain": [
       "{'input': 'Write me a shell script to list the files in the current directory. Output the script as markdown code block',\n",
       " 'output': '```bash\\nls -l\\n```'}"
      ]
     },
     "execution_count": 12,
     "metadata": {},
     "output_type": "execute_result"
    }
   ],
   "source": [
    "agent_executor.invoke({\"input\": \"Write me a shell script to list the files in the current directory. Output the script as markdown code block\"})\n",
    "\n"
   ]
  }
 ],
 "metadata": {
  "kernelspec": {
   "display_name": "workshop-agents-DUG816Iy-py3.12",
   "language": "python",
   "name": "python3"
  },
  "language_info": {
   "codemirror_mode": {
    "name": "ipython",
    "version": 3
   },
   "file_extension": ".py",
   "mimetype": "text/x-python",
   "name": "python",
   "nbconvert_exporter": "python",
   "pygments_lexer": "ipython3",
   "version": "3.12.3"
  }
 },
 "nbformat": 4,
 "nbformat_minor": 2
}
