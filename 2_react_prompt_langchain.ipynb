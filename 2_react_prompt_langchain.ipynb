{
 "cells": [
  {
   "cell_type": "code",
   "execution_count": 83,
   "metadata": {},
   "outputs": [
    {
     "name": "stdout",
     "output_type": "stream",
     "text": [
      "Note: you may need to restart the kernel to use updated packages.\n"
     ]
    }
   ],
   "source": [
    "%pip install langchain langchain-openai  langchain-community langchainhub --quiet"
   ]
  },
  {
   "cell_type": "markdown",
   "metadata": {},
   "source": [
    "# example from https://python.langchain.com/v0.1/docs/modules/agents/agent_types/react/"
   ]
  },
  {
   "cell_type": "code",
   "execution_count": 84,
   "metadata": {},
   "outputs": [],
   "source": [
    "from langchain import hub\n",
    "from langchain.agents import AgentExecutor, create_react_agent\n"
   ]
  },
  {
   "cell_type": "code",
   "execution_count": 85,
   "metadata": {},
   "outputs": [
    {
     "name": "stdout",
     "output_type": "stream",
     "text": [
      "('Answer the following questions as best you can. You have access to the '\n",
      " 'following tools:\\n'\n",
      " '\\n'\n",
      " '{tools}\\n'\n",
      " '\\n'\n",
      " 'Use the following format:\\n'\n",
      " '\\n'\n",
      " 'Question: the input question you must answer\\n'\n",
      " 'Thought: you should always think about what to do\\n'\n",
      " 'Action: the action to take, should be one of [{tool_names}]\\n'\n",
      " 'Action Input: the input to the action\\n'\n",
      " 'Observation: the result of the action\\n'\n",
      " '... (this Thought/Action/Action Input/Observation can repeat N times)\\n'\n",
      " 'Thought: I now know the final answer\\n'\n",
      " 'Final Answer: the final answer to the original input question\\n'\n",
      " '\\n'\n",
      " 'Begin!\\n'\n",
      " '\\n'\n",
      " 'Question: {input}\\n'\n",
      " 'Thought:{agent_scratchpad}')\n"
     ]
    }
   ],
   "source": [
    "# Get the prompt to use - you can modify this!\n",
    "prompt = hub.pull(\"hwchase17/react\")\n",
    "\n",
    "from pprint import pprint\n",
    "pprint(prompt.template)\n",
    "#a=prompt.format_prompt(context=\"some context\",question=\"some question\")\n",
    "#for msg in a.messages:\n",
    "#    print(msg.content)"
   ]
  },
  {
   "cell_type": "code",
   "execution_count": 86,
   "metadata": {},
   "outputs": [],
   "source": [
    "\n",
    "from _pretty_print_callback_handler import PrettyPrintCallbackHandler\n",
    "callback = PrettyPrintCallbackHandler()\n"
   ]
  },
  {
   "cell_type": "code",
   "execution_count": 87,
   "metadata": {},
   "outputs": [],
   "source": [
    "import _model\n",
    "import _settings\n",
    "llm=_model.get_llm(_settings.MODEL_NAME, callbacks=[callback])"
   ]
  },
  {
   "cell_type": "code",
   "execution_count": 88,
   "metadata": {},
   "outputs": [],
   "source": [
    "\n",
    "tools = []\n",
    "\n",
    "# Construct the ReAct agent\n",
    "agent = create_react_agent(llm, tools, prompt)"
   ]
  },
  {
   "cell_type": "code",
   "execution_count": 89,
   "metadata": {},
   "outputs": [],
   "source": [
    "# Create an agent executor by passing in the agent and tools\n",
    "agent_executor = AgentExecutor(agent=agent, tools=tools, verbose=True, callbacks=[callback],\n",
    "                               return_intermediate_steps=True, max_iterations=15)"
   ]
  },
  {
   "cell_type": "code",
   "execution_count": 90,
   "metadata": {},
   "outputs": [
    {
     "name": "stdout",
     "output_type": "stream",
     "text": [
      "Write me a shell script to list the files in the current directory. Output the script as markdown code block\n",
      "[chain][start] - inputs {'input': 'Write me a shell script to list the files in the current directory. Output the script as markdown code block'}\n",
      "\n",
      "\n",
      "\u001b[1m> Entering new AgentExecutor chain...\u001b[0m\n",
      "[agent][action] - action: tool='Write the shell script' tool_input='N/A' log=\"To answer this question, I need to write a simple shell script that lists the files in the current directory. The script will use the 'ls' command, which is a standard command to list files in Unix and Unix-like operating systems. The script doesn't require any input or parameters, so it's quite straightforward. I don't need to use any external tools to answer this question.\\nAction: Write the shell script\\nAction Input: N/A\"\n",
      "\u001b[32;1m\u001b[1;3mTo answer this question, I need to write a simple shell script that lists the files in the current directory. The script will use the 'ls' command, which is a standard command to list files in Unix and Unix-like operating systems. The script doesn't require any input or parameters, so it's quite straightforward. I don't need to use any external tools to answer this question.\n",
      "Action: Write the shell script\n",
      "Action Input: N/A\u001b[0mWrite the shell script is not a valid tool, try one of [].[agent][finish] - finish: return_values={'output': 'Here is the shell script in a markdown code block:\\n\\n```bash\\n#!/bin/bash\\n# This script will list the files in the current directory\\nls\\n```'} log='I have written the shell script in my mind. Now I need to format it as a markdown code block.\\nFinal Answer: Here is the shell script in a markdown code block:\\n\\n```bash\\n#!/bin/bash\\n# This script will list the files in the current directory\\nls\\n```'\n",
      "\u001b[32;1m\u001b[1;3mI have written the shell script in my mind. Now I need to format it as a markdown code block.\n",
      "Final Answer: Here is the shell script in a markdown code block:\n",
      "\n",
      "```bash\n",
      "#!/bin/bash\n",
      "# This script will list the files in the current directory\n",
      "ls\n",
      "```\u001b[0m\n",
      "[chain][end] - outputs: {'output': 'Here is the shell script in a markdown code block:\\n\\n```bash\\n#!/bin/bash\\n# This script will list the files in the current directory\\nls\\n```', 'intermediate_steps': [(AgentAction(tool='Write the shell script', tool_input='N/A', log=\"To answer this question, I need to write a simple shell script that lists the files in the current directory. The script will use the 'ls' command, which is a standard command to list files in Unix and Unix-like operating systems. The script doesn't require any input or parameters, so it's quite straightforward. I don't need to use any external tools to answer this question.\\nAction: Write the shell script\\nAction Input: N/A\"), 'Write the shell script is not a valid tool, try one of [].')]}\n",
      "\n",
      "\u001b[1m> Finished chain.\u001b[0m\n",
      "==================================================\n"
     ]
    }
   ],
   "source": [
    "import _settings\n",
    "print(_settings.CHALLENGE_PROMPT)\n",
    "result = agent_executor.invoke({\"input\": _settings.CHALLENGE_PROMPT})\n",
    "print(\"==================================================\")\n"
   ]
  },
  {
   "cell_type": "code",
   "execution_count": 91,
   "metadata": {},
   "outputs": [
    {
     "name": "stdout",
     "output_type": "stream",
     "text": [
      "Write me a shell script to list the files in the current directory. Output the script as markdown code block\n",
      "==================================================\n",
      "Here is the shell script in a markdown code block:\n",
      "\n",
      "```bash\n",
      "#!/bin/bash\n",
      "# This script will list the files in the current directory\n",
      "ls\n",
      "```\n",
      "==================================================\n",
      "[(AgentAction(tool='Write the shell script', tool_input='N/A', log=\"To answer this question, I need to write a simple shell script that lists the files in the current directory. The script will use the 'ls' command, which is a standard command to list files in Unix and Unix-like operating systems. The script doesn't require any input or parameters, so it's quite straightforward. I don't need to use any external tools to answer this question.\\nAction: Write the shell script\\nAction Input: N/A\"), 'Write the shell script is not a valid tool, try one of [].')]\n"
     ]
    }
   ],
   "source": [
    "\n",
    "print(result[\"input\"])\n",
    "print(\"==================================================\")\n",
    "\n",
    "print(result[\"output\"])\n",
    "print(\"==================================================\")\n",
    "print(result[\"intermediate_steps\"])\n"
   ]
  }
 ],
 "metadata": {
  "kernelspec": {
   "display_name": "workshop-agents-DUG816Iy-py3.12",
   "language": "python",
   "name": "python3"
  },
  "language_info": {
   "codemirror_mode": {
    "name": "ipython",
    "version": 3
   },
   "file_extension": ".py",
   "mimetype": "text/x-python",
   "name": "python",
   "nbconvert_exporter": "python",
   "pygments_lexer": "ipython3",
   "version": "3.12.3"
  }
 },
 "nbformat": 4,
 "nbformat_minor": 2
}
