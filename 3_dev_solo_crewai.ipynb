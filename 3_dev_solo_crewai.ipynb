{
 "cells": [
  {
   "cell_type": "code",
   "execution_count": 1,
   "metadata": {},
   "outputs": [
    {
     "name": "stdout",
     "output_type": "stream",
     "text": [
      "Note: you may need to restart the kernel to use updated packages.\n"
     ]
    }
   ],
   "source": [
    "%pip install crewai --quiet"
   ]
  },
  {
   "cell_type": "code",
   "execution_count": 2,
   "metadata": {},
   "outputs": [
    {
     "name": "stdout",
     "output_type": "stream",
     "text": [
      "Note: you may need to restart the kernel to use updated packages.\n"
     ]
    },
    {
     "data": {
      "text/plain": [
       "True"
      ]
     },
     "execution_count": 2,
     "metadata": {},
     "output_type": "execute_result"
    }
   ],
   "source": [
    "%pip install python-dotenv --quiet\n",
    "import dotenv\n",
    "dotenv.load_dotenv()"
   ]
  },
  {
   "cell_type": "code",
   "execution_count": 3,
   "metadata": {},
   "outputs": [],
   "source": [
    "from crewai import Agent, Task, Crew, Process\n"
   ]
  },
  {
   "cell_type": "code",
   "execution_count": 7,
   "metadata": {},
   "outputs": [],
   "source": [
    "developer = Agent(\n",
    "  role='Senior Developer',\n",
    "  goal='Develop code that is high qualuty, scalable, and maintainable.',\n",
    "  backstory=\"\"\"I'm a senior developer with 10 years of experience. I have worked on a variety of projects and have a deep understanding of software development best practices. \n",
    "  I am passionate about writing clean, efficient code and am always looking for ways to improve my skills.\n",
    "  \"\"\",\n",
    "  verbose=True,\n",
    "  # You can pass an optional llm attribute specifying what model you wanna use.\n",
    "  # llm=ChatOpenAI(model_name=\"gpt-3.5\", temperature=0.7),\n",
    ")\n"
   ]
  },
  {
   "cell_type": "code",
   "execution_count": 8,
   "metadata": {},
   "outputs": [],
   "source": [
    "\n",
    "# Create tasks for your agents\n",
    "task1 = Task(\n",
    "  description=\"\"\"Generate me shell script that will list all files in the current directory.\"\"\",\n",
    "  expected_output=\"A script shown as markdown code block\",\n",
    "  agent=developer\n",
    ")"
   ]
  },
  {
   "cell_type": "code",
   "execution_count": 9,
   "metadata": {},
   "outputs": [
    {
     "name": "stderr",
     "output_type": "stream",
     "text": [
      "2024-06-13 15:15:02,659 - 8387709952 - __init__.py-__init__:518 - WARNING: Overriding of current TracerProvider is not allowed\n"
     ]
    },
    {
     "name": "stdout",
     "output_type": "stream",
     "text": [
      "\u001b[1m\u001b[95m [DEBUG]: == Working Agent: Senior Developer\u001b[00m\n",
      "\u001b[1m\u001b[95m [INFO]: == Starting Task: Generate me shell script that will list all files in the current directory.\u001b[00m\n",
      "\n",
      "\n",
      "\u001b[1m> Entering new CrewAgentExecutor chain...\u001b[0m\n",
      "\u001b[32;1m\u001b[1;3mThe task at hand is relatively straightforward and doesn't require any complex scripting. However, it's important to make sure that the script is secure and compatible with all Unix-like systems. For this task, we will use the built-in `ls` command to list all files in the current directory. The `-p` option will be used with `ls` to differentiate directories from files. Directories will be displayed with a trailing '/'. \n",
      "\n",
      "Final Answer:\n",
      "Here is a shell script that lists all the files in the current directory:\n",
      "\n",
      "```bash\n",
      "#!/bin/sh\n",
      "\n",
      "# List all files in the current directory\n",
      "ls -p | grep -v /\n",
      "```\n",
      "\n",
      "This script uses `ls -p`, which appends a character denoting the file type for each listed file (for example, a trailing '/' for directories). The `grep -v /` command is used to exclude directories from the list, so the script only lists files. \n",
      "\n",
      "Remember to make your script executable using the `chmod +x scriptname.sh` command.\u001b[0m\n",
      "\n",
      "\u001b[1m> Finished chain.\u001b[0m\n",
      "\u001b[1m\u001b[92m [DEBUG]: == [Senior Developer] Task output: Here is a shell script that lists all the files in the current directory:\n",
      "\n",
      "```bash\n",
      "#!/bin/sh\n",
      "\n",
      "# List all files in the current directory\n",
      "ls -p | grep -v /\n",
      "```\n",
      "\n",
      "This script uses `ls -p`, which appends a character denoting the file type for each listed file (for example, a trailing '/' for directories). The `grep -v /` command is used to exclude directories from the list, so the script only lists files. \n",
      "\n",
      "Remember to make your script executable using the `chmod +x scriptname.sh` command.\n",
      "\n",
      "\u001b[00m\n",
      "######################\n",
      "Here is a shell script that lists all the files in the current directory:\n",
      "\n",
      "```bash\n",
      "#!/bin/sh\n",
      "\n",
      "# List all files in the current directory\n",
      "ls -p | grep -v /\n",
      "```\n",
      "\n",
      "This script uses `ls -p`, which appends a character denoting the file type for each listed file (for example, a trailing '/' for directories). The `grep -v /` command is used to exclude directories from the list, so the script only lists files. \n",
      "\n",
      "Remember to make your script executable using the `chmod +x scriptname.sh` command.\n"
     ]
    }
   ],
   "source": [
    "\n",
    "# Instantiate your crew with a sequential process\n",
    "crew = Crew(\n",
    "  agents=[developer],\n",
    "  tasks=[task1],\n",
    "  verbose=2, # You can set it to 1 or 2 to different logging levels\n",
    ")\n",
    "\n",
    "# Get your crew to work!\n",
    "result = crew.kickoff()\n",
    "\n",
    "print(\"######################\")\n",
    "print(result)"
   ]
  }
 ],
 "metadata": {
  "kernelspec": {
   "display_name": "workshop-agents-DUG816Iy-py3.12",
   "language": "python",
   "name": "python3"
  },
  "language_info": {
   "codemirror_mode": {
    "name": "ipython",
    "version": 3
   },
   "file_extension": ".py",
   "mimetype": "text/x-python",
   "name": "python",
   "nbconvert_exporter": "python",
   "pygments_lexer": "ipython3",
   "version": "3.12.3"
  }
 },
 "nbformat": 4,
 "nbformat_minor": 2
}
