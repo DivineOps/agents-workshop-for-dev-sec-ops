{
 "cells": [
  {
   "cell_type": "code",
   "execution_count": 17,
   "metadata": {},
   "outputs": [
    {
     "name": "stdout",
     "output_type": "stream",
     "text": [
      "Note: you may need to restart the kernel to use updated packages.\n"
     ]
    }
   ],
   "source": [
    "%pip install langchain langchain-openai langchainhub --quiet"
   ]
  },
  {
   "cell_type": "markdown",
   "metadata": {},
   "source": [
    "# example from https://python.langchain.com/v0.1/docs/modules/agents/agent_types/react/"
   ]
  },
  {
   "cell_type": "code",
   "execution_count": 18,
   "metadata": {},
   "outputs": [],
   "source": [
    "from langchain import hub\n",
    "from langchain.agents import AgentExecutor, create_react_agent\n",
    "from langchain_openai import OpenAI"
   ]
  },
  {
   "cell_type": "code",
   "execution_count": 19,
   "metadata": {},
   "outputs": [
    {
     "name": "stdout",
     "output_type": "stream",
     "text": [
      "('Answer the following questions as best you can. You have access to the '\n",
      " 'following tools:\\n'\n",
      " '\\n'\n",
      " '{tools}\\n'\n",
      " '\\n'\n",
      " 'Use the following format:\\n'\n",
      " '\\n'\n",
      " 'Question: the input question you must answer\\n'\n",
      " 'Thought: you should always think about what to do\\n'\n",
      " 'Action: the action to take, should be one of [{tool_names}]\\n'\n",
      " 'Action Input: the input to the action\\n'\n",
      " 'Observation: the result of the action\\n'\n",
      " '... (this Thought/Action/Action Input/Observation can repeat N times)\\n'\n",
      " 'Thought: I now know the final answer\\n'\n",
      " 'Final Answer: the final answer to the original input question\\n'\n",
      " '\\n'\n",
      " 'Begin!\\n'\n",
      " '\\n'\n",
      " 'Question: {input}\\n'\n",
      " 'Thought:{agent_scratchpad}')\n"
     ]
    }
   ],
   "source": [
    "# Get the prompt to use - you can modify this!\n",
    "prompt = hub.pull(\"hwchase17/react\")\n",
    "\n",
    "from pprint import pprint\n",
    "pprint(prompt.template)\n",
    "#a=prompt.format_prompt(context=\"some context\",question=\"some question\")\n",
    "#for msg in a.messages:\n",
    "#    print(msg.content)"
   ]
  },
  {
   "cell_type": "code",
   "execution_count": 20,
   "metadata": {},
   "outputs": [],
   "source": [
    "\n",
    "\n",
    "# Choose the LLM to use\n",
    "#llm = OpenAI()\n",
    "from _callbacks import PrettyPrintCallbackHandler\n",
    "callback = PrettyPrintCallbackHandler()\n",
    "\n",
    "import _models, _settings\n",
    "llm=_models.get_llm(_settings.MODEL_NAME, callbacks=[callback])\n",
    "\n"
   ]
  },
  {
   "cell_type": "code",
   "execution_count": 21,
   "metadata": {},
   "outputs": [],
   "source": [
    "from langchain.pydantic_v1 import BaseModel, Field\n",
    "from langchain.tools import BaseTool, StructuredTool, tool\n",
    "\n",
    "\n",
    "tools = []\n",
    "class BashValidatorInput(BaseModel):\n",
    "    code: str = Field(description=\"The code to validate\")\n",
    "\n",
    "import _tools\n",
    "\n",
    "\n",
    "bash_validator_tool = StructuredTool.from_function(\n",
    "    func=_tools.bash_validate,\n",
    "    name=\"bash_validator\",\n",
    "    description=\"Check if the code is valid bash code\",\n",
    "    args_schema=BashValidatorInput,\n",
    "  #  return_direct=True,\n",
    "    handle_tool_eror=True\n",
    ")\n",
    "\n",
    "\n",
    "class MarkdownValidatorInput(BaseModel):\n",
    "    code: str = Field(description=\"The code to validate\")\n",
    "\n",
    "\n",
    "\n",
    "markdown_validator_tool = StructuredTool.from_function(\n",
    "    func=_tools.markdown_validate,\n",
    "    name=\"markdown_validator\",\n",
    "    description=\"Check if the code is valid markdown\",\n",
    "    args_schema=MarkdownValidatorInput,\n",
    "  #  return_direct=True,\n",
    "    handle_tool_eror=True\n",
    ")\n",
    "\n",
    "\n",
    "tools.append(bash_validator_tool)\n",
    "tools.append(markdown_validator_tool)"
   ]
  },
  {
   "cell_type": "code",
   "execution_count": 22,
   "metadata": {},
   "outputs": [],
   "source": [
    "\n",
    "# Construct the ReAct agent\n",
    "agent = create_react_agent(llm, tools, prompt)"
   ]
  },
  {
   "cell_type": "code",
   "execution_count": 23,
   "metadata": {},
   "outputs": [],
   "source": [
    "# Create an agent executor by passing in the agent and tools\n",
    "agent_executor = AgentExecutor(agent=agent, tools=tools,\n",
    "         verbose=True,return_intermediate_steps=True,\n",
    "           callbacks=[callback], max_iterations=15)"
   ]
  },
  {
   "cell_type": "code",
   "execution_count": 24,
   "metadata": {},
   "outputs": [
    {
     "name": "stdout",
     "output_type": "stream",
     "text": [
      "[chain][start] - inputs {'input': 'Write me a shell script to list the files in the current directory. Output the script as markdown bash code block'}\n",
      "\n",
      "\n",
      "\u001b[1m> Entering new AgentExecutor chain...\u001b[0m\n",
      "[agent][action] - action: tool='None' tool_input='None' log='To answer this question, I need to write a bash script that lists the files in the current directory. Then, I need to format it as a markdown bash code block.\\nAction: None\\nAction Input: None'\n",
      "\u001b[32;1m\u001b[1;3mTo answer this question, I need to write a bash script that lists the files in the current directory. Then, I need to format it as a markdown bash code block.\n",
      "Action: None\n",
      "Action Input: None\u001b[0mNone is not a valid tool, try one of [bash_validator, markdown_validator].[agent][action] - action: tool='bash_validator' tool_input='ls -l' log='I need to write the bash script first and then validate it using the bash_validator tool.\\nAction: bash_validator\\nAction Input: \"ls -l\"'\n",
      "\u001b[32;1m\u001b[1;3mI need to write the bash script first and then validate it using the bash_validator tool.\n",
      "Action: bash_validator\n",
      "Action Input: \"ls -l\"\u001b[0mremoving temp file /var/folders/hy/741ph7dn3k3d0xcy9m6x08y80000gn/T/tmputpdntkr\n",
      "\u001b[36;1m\u001b[1;3mThe code is valid bash code\u001b[0m[agent][action] - action: tool='markdown_validator' tool_input='```bash\\\\nls -l\\\\n```' log='The bash script is valid. Now I need to format it as a markdown bash code block and validate it using the markdown_validator tool.\\nAction: markdown_validator\\nAction Input: \"```bash\\\\nls -l\\\\n```\"'\n",
      "\u001b[32;1m\u001b[1;3mThe bash script is valid. Now I need to format it as a markdown bash code block and validate it using the markdown_validator tool.\n",
      "Action: markdown_validator\n",
      "Action Input: \"```bash\\nls -l\\n```\"\u001b[0m\u001b[33;1m\u001b[1;3mThe code is valid markdown\u001b[0m[agent][finish] - finish: return_values={'output': 'The shell script to list the files in the current directory, outputted as a markdown bash code block is:\\n\\n```bash\\nls -l\\n```'} log='I now know the final answer\\nFinal Answer: The shell script to list the files in the current directory, outputted as a markdown bash code block is:\\n\\n```bash\\nls -l\\n```'\n",
      "\u001b[32;1m\u001b[1;3mI now know the final answer\n",
      "Final Answer: The shell script to list the files in the current directory, outputted as a markdown bash code block is:\n",
      "\n",
      "```bash\n",
      "ls -l\n",
      "```\u001b[0m\n",
      "[chain][end] - outputs: {'output': 'The shell script to list the files in the current directory, outputted as a markdown bash code block is:\\n\\n```bash\\nls -l\\n```', 'intermediate_steps': [(AgentAction(tool='None', tool_input='None', log='To answer this question, I need to write a bash script that lists the files in the current directory. Then, I need to format it as a markdown bash code block.\\nAction: None\\nAction Input: None'), 'None is not a valid tool, try one of [bash_validator, markdown_validator].'), (AgentAction(tool='bash_validator', tool_input='ls -l', log='I need to write the bash script first and then validate it using the bash_validator tool.\\nAction: bash_validator\\nAction Input: \"ls -l\"'), 'The code is valid bash code'), (AgentAction(tool='markdown_validator', tool_input='```bash\\\\nls -l\\\\n```', log='The bash script is valid. Now I need to format it as a markdown bash code block and validate it using the markdown_validator tool.\\nAction: markdown_validator\\nAction Input: \"```bash\\\\nls -l\\\\n```\"'), 'The code is valid markdown')]}\n",
      "\n",
      "\u001b[1m> Finished chain.\u001b[0m\n"
     ]
    },
    {
     "data": {
      "text/plain": [
       "{'input': 'Write me a shell script to list the files in the current directory. Output the script as markdown bash code block',\n",
       " 'output': 'The shell script to list the files in the current directory, outputted as a markdown bash code block is:\\n\\n```bash\\nls -l\\n```',\n",
       " 'intermediate_steps': [(AgentAction(tool='None', tool_input='None', log='To answer this question, I need to write a bash script that lists the files in the current directory. Then, I need to format it as a markdown bash code block.\\nAction: None\\nAction Input: None'),\n",
       "   'None is not a valid tool, try one of [bash_validator, markdown_validator].'),\n",
       "  (AgentAction(tool='bash_validator', tool_input='ls -l', log='I need to write the bash script first and then validate it using the bash_validator tool.\\nAction: bash_validator\\nAction Input: \"ls -l\"'),\n",
       "   'The code is valid bash code'),\n",
       "  (AgentAction(tool='markdown_validator', tool_input='```bash\\\\nls -l\\\\n```', log='The bash script is valid. Now I need to format it as a markdown bash code block and validate it using the markdown_validator tool.\\nAction: markdown_validator\\nAction Input: \"```bash\\\\nls -l\\\\n```\"'),\n",
       "   'The code is valid markdown')]}"
      ]
     },
     "execution_count": 24,
     "metadata": {},
     "output_type": "execute_result"
    }
   ],
   "source": [
    "agent_executor.invoke({\"input\": \"Write me a shell script to list the files in the current directory. Output the script as markdown bash code block\"})\n",
    "\n"
   ]
  }
 ],
 "metadata": {
  "kernelspec": {
   "display_name": "workshop-agents-DUG816Iy-py3.12",
   "language": "python",
   "name": "python3"
  },
  "language_info": {
   "codemirror_mode": {
    "name": "ipython",
    "version": 3
   },
   "file_extension": ".py",
   "mimetype": "text/x-python",
   "name": "python",
   "nbconvert_exporter": "python",
   "pygments_lexer": "ipython3",
   "version": "3.12.3"
  }
 },
 "nbformat": 4,
 "nbformat_minor": 2
}
