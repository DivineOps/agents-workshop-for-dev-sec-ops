{
 "cells": [
  {
   "cell_type": "code",
   "execution_count": 9,
   "metadata": {},
   "outputs": [
    {
     "name": "stdout",
     "output_type": "stream",
     "text": [
      "Note: you may need to restart the kernel to use updated packages.\n"
     ]
    }
   ],
   "source": [
    "%pip install crewai --quiet"
   ]
  },
  {
   "cell_type": "code",
   "execution_count": 10,
   "metadata": {},
   "outputs": [
    {
     "name": "stdout",
     "output_type": "stream",
     "text": [
      "Note: you may need to restart the kernel to use updated packages.\n"
     ]
    },
    {
     "data": {
      "text/plain": [
       "True"
      ]
     },
     "execution_count": 10,
     "metadata": {},
     "output_type": "execute_result"
    }
   ],
   "source": [
    "%pip install python-dotenv --quiet\n",
    "import dotenv\n",
    "dotenv.load_dotenv()"
   ]
  },
  {
   "cell_type": "code",
   "execution_count": 11,
   "metadata": {},
   "outputs": [],
   "source": [
    "from crewai import Agent, Task, Crew, Process\n"
   ]
  },
  {
   "cell_type": "code",
   "execution_count": 12,
   "metadata": {},
   "outputs": [],
   "source": [
    "developer = Agent(\n",
    "  role='Senior Developer',\n",
    "  goal='Develop code that is high qualuty, scalable, and maintainable.',\n",
    "  backstory=\"\"\"I'm a senior developer with 10 years of experience. I have worked on a variety of projects and have a deep understanding of software development best practices. \n",
    "  I am passionate about writing clean, efficient code and am always looking for ways to improve my skills.\n",
    "  \"\"\",\n",
    "  verbose=True,\n",
    "  # You can pass an optional llm attribute specifying what model you wanna use.\n",
    "  # llm=ChatOpenAI(model_name=\"gpt-3.5\", temperature=0.7),\n",
    ")\n"
   ]
  },
  {
   "cell_type": "code",
   "execution_count": 13,
   "metadata": {},
   "outputs": [],
   "source": [
    "ops = Agent(\n",
    "  role='Senior DevOps Engineer',\n",
    "  goal='Make sure the code works repeatably and is idempotent.',\n",
    "  backstory=\"\"\"I'm a senior Devops Engineer with 10 years of experience.\n",
    "  I've written a lot of bash scripts as I live in the terminal all day.`\n",
    "  \"\"\",\n",
    "  verbose=True,\n",
    "  # You can pass an optional llm attribute specifying what model you wanna use.\n",
    "  # llm=ChatOpenAI(model_name=\"gpt-3.5\", temperature=0.7),\n",
    ")\n"
   ]
  },
  {
   "cell_type": "code",
   "execution_count": 14,
   "metadata": {},
   "outputs": [],
   "source": [
    "\n",
    "# Create tasks for your agents\n",
    "task1 = Task(\n",
    "  description=\"\"\"Generate me shell script that will list all files recursively in the current directory.\"\"\",\n",
    "  expected_output=\"A script shown as markdown code block\",\n",
    "  agent=developer\n",
    ")"
   ]
  },
  {
   "cell_type": "code",
   "execution_count": 15,
   "metadata": {},
   "outputs": [],
   "source": [
    "# Create tasks for your agents\n",
    "task2 = Task(\n",
    "  description=\"\"\"Analyze a shell script and make sure it's compatible with most of the Linux systems.\"\"\",\n",
    "  expected_output=\"A script shown as markdown code block\",\n",
    "  agent=ops\n",
    ")"
   ]
  },
  {
   "cell_type": "code",
   "execution_count": 16,
   "metadata": {},
   "outputs": [
    {
     "name": "stderr",
     "output_type": "stream",
     "text": [
      "2024-06-13 15:27:44,201 - 8387709952 - __init__.py-__init__:518 - WARNING: Overriding of current TracerProvider is not allowed\n"
     ]
    },
    {
     "name": "stdout",
     "output_type": "stream",
     "text": [
      "\u001b[1m\u001b[95m [DEBUG]: == Working Agent: Senior Developer\u001b[00m\n",
      "\u001b[1m\u001b[95m [INFO]: == Starting Task: Generate me shell script that will list all files recursively in the current directory.\u001b[00m\n",
      "\n",
      "\n",
      "\u001b[1m> Entering new CrewAgentExecutor chain...\u001b[0m\n",
      "\u001b[32;1m\u001b[1;3mThe task requires generating a shell script to list all files recursively in the current directory. Shell scripting is a powerful tool that can automate tasks on Unix-like operating systems. To accomplish this, I can use the 'find' command in Unix which is used to search and locate the list of files and directories based on conditions you specify for files that match the arguments. The \".\" argument will specify the current directory and the \"-type f\" argument will ensure we only list files, not directories. \n",
      "\n",
      "Final Answer:\n",
      "\n",
      "Here is a simple shell script that will accomplish this. You can run it in your terminal to list all files recursively in the current directory.\n",
      "\n",
      "```bash\n",
      "#!/bin/bash\n",
      "\n",
      "# Simple script to list all files recursively in the current directory\n",
      "\n",
      "find . -type f\n",
      "```\n",
      "\n",
      "To run the script, save it to a file, give it execute permissions, and then run it:\n",
      "\n",
      "```bash\n",
      "$ chmod +x script.sh\n",
      "$ ./script.sh\n",
      "```\n",
      "\n",
      "This script will print the relative paths of all files in the current directory and its subdirectories to the console.\u001b[0m\n",
      "\n",
      "\u001b[1m> Finished chain.\u001b[0m\n",
      "\u001b[1m\u001b[92m [DEBUG]: == [Senior Developer] Task output: Here is a simple shell script that will accomplish this. You can run it in your terminal to list all files recursively in the current directory.\n",
      "\n",
      "```bash\n",
      "#!/bin/bash\n",
      "\n",
      "# Simple script to list all files recursively in the current directory\n",
      "\n",
      "find . -type f\n",
      "```\n",
      "\n",
      "To run the script, save it to a file, give it execute permissions, and then run it:\n",
      "\n",
      "```bash\n",
      "$ chmod +x script.sh\n",
      "$ ./script.sh\n",
      "```\n",
      "\n",
      "This script will print the relative paths of all files in the current directory and its subdirectories to the console.\n",
      "\n",
      "\u001b[00m\n",
      "\u001b[1m\u001b[95m [DEBUG]: == Working Agent: Senior DevOps Engineer\u001b[00m\n",
      "\u001b[1m\u001b[95m [INFO]: == Starting Task: Analyze a shell script and make sure it's compatible with most of the Linux systems.\u001b[00m\n",
      "\n",
      "\n",
      "\u001b[1m> Entering new CrewAgentExecutor chain...\u001b[0m\n",
      "\u001b[32;1m\u001b[1;3mThe script provided is a simple one-liner that uses the 'find' command to list all files in the current directory and its subdirectories. It should work on most Linux systems as it uses standard bash and Unix commands.\n",
      "\n",
      "However, there might be a couple of potential issues with compatibility and portability. The shebang line specifies '/bin/bash', which assumes that bash is located in /bin, which might not be the case on all systems. \n",
      "\n",
      "Also, 'find' command can behave differently on different systems. For example, the GNU version of 'find' treats symbolic links differently than the BSD version of 'find' (the one that comes with macOS). \n",
      "\n",
      "To make the script more portable, I would suggest using '/usr/bin/env bash' as the shebang line, which will use whichever bash is available in the system's PATH. And for 'find' command, we can add a condition to check the version of 'find' and behave accordingly.\n",
      "\n",
      "Here's the updated script:\n",
      "\n",
      "```bash\n",
      "#!/usr/bin/env bash\n",
      "\n",
      "# Simple script to list all files recursively in the current directory\n",
      "\n",
      "if [[ \"$(find --version 2>/dev/null)\" == *\"GNU findutils\"* ]]; then\n",
      "  # GNU version\n",
      "  find . -type f -follow\n",
      "else\n",
      "  # BSD version (including macOS)\n",
      "  find . -type f\n",
      "fi\n",
      "```\n",
      "\n",
      "Final Answer: The above script is more compatible and portable across different Linux systems. It uses '/usr/bin/env bash' as the shebang line and adds a condition to handle differences between GNU and BSD versions of the 'find' command.\u001b[0m\n",
      "\n",
      "\u001b[1m> Finished chain.\u001b[0m\n",
      "\u001b[1m\u001b[92m [DEBUG]: == [Senior DevOps Engineer] Task output: The above script is more compatible and portable across different Linux systems. It uses '/usr/bin/env bash' as the shebang line and adds a condition to handle differences between GNU and BSD versions of the 'find' command.\n",
      "\n",
      "\u001b[00m\n",
      "######################\n",
      "The above script is more compatible and portable across different Linux systems. It uses '/usr/bin/env bash' as the shebang line and adds a condition to handle differences between GNU and BSD versions of the 'find' command.\n"
     ]
    }
   ],
   "source": [
    "\n",
    "# Instantiate your crew with a sequential process\n",
    "crew = Crew(\n",
    "  agents=[developer],\n",
    "  tasks=[task1, task2],\n",
    "  verbose=2, # You can set it to 1 or 2 to different logging levels\n",
    ")\n",
    "\n",
    "# Get your crew to work!\n",
    "result = crew.kickoff()\n",
    "\n",
    "print(\"######################\")\n",
    "print(result)"
   ]
  }
 ],
 "metadata": {
  "kernelspec": {
   "display_name": "workshop-agents-DUG816Iy-py3.12",
   "language": "python",
   "name": "python3"
  },
  "language_info": {
   "codemirror_mode": {
    "name": "ipython",
    "version": 3
   },
   "file_extension": ".py",
   "mimetype": "text/x-python",
   "name": "python",
   "nbconvert_exporter": "python",
   "pygments_lexer": "ipython3",
   "version": "3.12.3"
  }
 },
 "nbformat": 4,
 "nbformat_minor": 2
}
