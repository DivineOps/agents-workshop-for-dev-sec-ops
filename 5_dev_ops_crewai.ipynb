{
 "cells": [
  {
   "cell_type": "code",
   "execution_count": 10,
   "metadata": {},
   "outputs": [
    {
     "name": "stdout",
     "output_type": "stream",
     "text": [
      "Note: you may need to restart the kernel to use updated packages.\n"
     ]
    }
   ],
   "source": [
    "# We first install the packages\n",
    "%pip install crewai langchain langchain-openai --quiet"
   ]
  },
  {
   "cell_type": "code",
   "execution_count": 11,
   "metadata": {},
   "outputs": [
    {
     "name": "stdout",
     "output_type": "stream",
     "text": [
      "Note: you may need to restart the kernel to use updated packages.\n"
     ]
    },
    {
     "data": {
      "text/plain": [
       "True"
      ]
     },
     "execution_count": 11,
     "metadata": {},
     "output_type": "execute_result"
    }
   ],
   "source": [
    "# We install our environment variables helper library\n",
    "%pip install python-dotenv --quiet\n",
    "import dotenv\n",
    "dotenv.load_dotenv()"
   ]
  },
  {
   "cell_type": "code",
   "execution_count": 12,
   "metadata": {},
   "outputs": [],
   "source": [
    "# We load our helper callback to see what goes over the wire\n",
    "from _callbacks import PrettyPrintCallbackHandler\n",
    "callback = PrettyPrintCallbackHandler()"
   ]
  },
  {
   "cell_type": "code",
   "execution_count": 13,
   "metadata": {},
   "outputs": [],
   "source": [
    "# We load the llm mode using our helper and based onthe settings\n",
    "import _models\n",
    "import _settings\n",
    "llm=_models.get_llm(_settings.MODEL_NAME, callbacks=[callback])\n"
   ]
  },
  {
   "cell_type": "code",
   "execution_count": 14,
   "metadata": {},
   "outputs": [],
   "source": [
    "# We load our challenge from the settings\n",
    "import _settings\n",
    "challenge_prompt=_settings.CHALLENGE_PROMPT"
   ]
  },
  {
   "cell_type": "code",
   "execution_count": 15,
   "metadata": {},
   "outputs": [
    {
     "name": "stdout",
     "output_type": "stream",
     "text": [
      "Creating senior developer\n",
      "Creating senior devops\n"
     ]
    }
   ],
   "source": [
    "from crewai import Agent, Task, Crew, Process\n",
    "import _agents\n",
    "developer= _agents.get_agent_by_name(\"senior developer\",llm)\n",
    "ops = _agents.get_agent_by_name(\"senior devops\",llm)"
   ]
  },
  {
   "cell_type": "code",
   "execution_count": 16,
   "metadata": {},
   "outputs": [],
   "source": [
    "# Create tasks for your agents\n",
    "task1 = Task(\n",
    "  description=challenge_prompt,\n",
    "  expected_output=\"A script shown as markdown code block\",\n",
    "  agent=developer,\n",
    "  llm=llm\n",
    ")"
   ]
  },
  {
   "cell_type": "code",
   "execution_count": 17,
   "metadata": {},
   "outputs": [],
   "source": [
    "# Create tasks for your agents\n",
    "task2 = Task(\n",
    "  description=\"\"\"Analyze a shell script and make sure it's compatible with most of the Linux systems.\"\"\",\n",
    "  expected_output=\"A script shown as markdown code block\",\n",
    "  agent=ops,\n",
    "  llm=llm\n",
    ")"
   ]
  },
  {
   "cell_type": "code",
   "execution_count": 18,
   "metadata": {},
   "outputs": [
    {
     "name": "stderr",
     "output_type": "stream",
     "text": [
      "2024-06-15 15:03:46,810 - 8387709952 - __init__.py-__init__:518 - WARNING: Overriding of current TracerProvider is not allowed\n"
     ]
    },
    {
     "name": "stdout",
     "output_type": "stream",
     "text": [
      "\u001b[1m\u001b[95m [DEBUG]: == Working Agent: Senior Developer\u001b[00m\n",
      "\u001b[1m\u001b[95m [INFO]: == Starting Task: Write me a shell script to list the files in the current directory. \n",
      "Output the script as markdown code block\u001b[00m\n",
      "\n",
      "\n",
      "\u001b[1m> Entering new CrewAgentExecutor chain...\u001b[0m\n",
      "\u001b[32;1m\u001b[1;3mI can write a simple shell script that lists all the files in the current directory. I will use the `ls` command, which is a standard command to list files in Unix and Unix-like operating systems. I will output the script as a markdown code block as requested.\n",
      "\n",
      "Final Answer:\n",
      "\n",
      "Here is the shell script as a markdown code block:\n",
      "\n",
      "```bash\n",
      "#!/bin/bash\n",
      "# This script will list all the files in the current directory\n",
      "\n",
      "ls\n",
      "```\n",
      "\n",
      "To run this script, save it to a file, give it execute permissions using `chmod +x filename`, and then run it with `./filename`. It will list all the files in the directory where it is run.\u001b[0m\n",
      "\n",
      "\u001b[1m> Finished chain.\u001b[0m\n",
      "\u001b[1m\u001b[92m [DEBUG]: == [Senior Developer] Task output: Here is the shell script as a markdown code block:\n",
      "\n",
      "```bash\n",
      "#!/bin/bash\n",
      "# This script will list all the files in the current directory\n",
      "\n",
      "ls\n",
      "```\n",
      "\n",
      "To run this script, save it to a file, give it execute permissions using `chmod +x filename`, and then run it with `./filename`. It will list all the files in the directory where it is run.\n",
      "\n",
      "\u001b[00m\n",
      "\u001b[1m\u001b[95m [DEBUG]: == Working Agent: Senior DevOps Engineer\u001b[00m\n",
      "\u001b[1m\u001b[95m [INFO]: == Starting Task: Analyze a shell script and make sure it's compatible with most of the Linux systems.\u001b[00m\n",
      "\n",
      "\n",
      "\u001b[1m> Entering new CrewAgentExecutor chain...\u001b[0m\n",
      "\u001b[32;1m\u001b[1;3mThe script is very simple and should be compatible with most Linux systems as it uses the `ls` command which is a standard command available on all Linux distributions. However, to make it more robust and compatible, I would add error handling and also make it more informative by adding options to the `ls` command. \n",
      "\n",
      "Final Answer:\n",
      "\n",
      "```bash\n",
      "#!/bin/bash\n",
      "# This script will list all the files in the current directory\n",
      "\n",
      "# Check if 'ls' command is available\n",
      "if ! command -v ls &> /dev/null\n",
      "then\n",
      "    echo \"'ls' command could not be found\"\n",
      "    exit\n",
      "fi\n",
      "\n",
      "# List all files in the current directory in a detailed list format\n",
      "ls -l\n",
      "```\n",
      "\n",
      "This script first checks if the `ls` command is available on the system. If it's not, it will print an error message and exit. If the `ls` command is available, it will list all the files in the current directory in a detailed list format (`ls -l`). This format includes file permissions, number of links, owner, group, size, and time of last modification.\u001b[0m\n",
      "\n",
      "\u001b[1m> Finished chain.\u001b[0m\n",
      "\u001b[1m\u001b[92m [DEBUG]: == [Senior DevOps Engineer] Task output: ```bash\n",
      "#!/bin/bash\n",
      "# This script will list all the files in the current directory\n",
      "\n",
      "# Check if 'ls' command is available\n",
      "if ! command -v ls &> /dev/null\n",
      "then\n",
      "    echo \"'ls' command could not be found\"\n",
      "    exit\n",
      "fi\n",
      "\n",
      "# List all files in the current directory in a detailed list format\n",
      "ls -l\n",
      "```\n",
      "\n",
      "This script first checks if the `ls` command is available on the system. If it's not, it will print an error message and exit. If the `ls` command is available, it will list all the files in the current directory in a detailed list format (`ls -l`). This format includes file permissions, number of links, owner, group, size, and time of last modification.\n",
      "\n",
      "\u001b[00m\n",
      "######################\n",
      "{'final_output': '```bash\\n#!/bin/bash\\n# This script will list all the files in the current directory\\n\\n# Check if \\'ls\\' command is available\\nif ! command -v ls &> /dev/null\\nthen\\n    echo \"\\'ls\\' command could not be found\"\\n    exit\\nfi\\n\\n# List all files in the current directory in a detailed list format\\nls -l\\n```\\n\\nThis script first checks if the `ls` command is available on the system. If it\\'s not, it will print an error message and exit. If the `ls` command is available, it will list all the files in the current directory in a detailed list format (`ls -l`). This format includes file permissions, number of links, owner, group, size, and time of last modification.', 'tasks_outputs': [TaskOutput(description='Write me a shell script to list the files in the current directory. \\nOutput the script as markdown code block', summary='Write me a shell script to list the files in...', exported_output='Here is the shell script as a markdown code block:\\n\\n```bash\\n#!/bin/bash\\n# This script will list all the files in the current directory\\n\\nls\\n```\\n\\nTo run this script, save it to a file, give it execute permissions using `chmod +x filename`, and then run it with `./filename`. It will list all the files in the directory where it is run.', raw_output='Here is the shell script as a markdown code block:\\n\\n```bash\\n#!/bin/bash\\n# This script will list all the files in the current directory\\n\\nls\\n```\\n\\nTo run this script, save it to a file, give it execute permissions using `chmod +x filename`, and then run it with `./filename`. It will list all the files in the directory where it is run.'), TaskOutput(description=\"Analyze a shell script and make sure it's compatible with most of the Linux systems.\", summary=\"Analyze a shell script and make sure it's compatible with...\", exported_output='```bash\\n#!/bin/bash\\n# This script will list all the files in the current directory\\n\\n# Check if \\'ls\\' command is available\\nif ! command -v ls &> /dev/null\\nthen\\n    echo \"\\'ls\\' command could not be found\"\\n    exit\\nfi\\n\\n# List all files in the current directory in a detailed list format\\nls -l\\n```\\n\\nThis script first checks if the `ls` command is available on the system. If it\\'s not, it will print an error message and exit. If the `ls` command is available, it will list all the files in the current directory in a detailed list format (`ls -l`). This format includes file permissions, number of links, owner, group, size, and time of last modification.', raw_output='```bash\\n#!/bin/bash\\n# This script will list all the files in the current directory\\n\\n# Check if \\'ls\\' command is available\\nif ! command -v ls &> /dev/null\\nthen\\n    echo \"\\'ls\\' command could not be found\"\\n    exit\\nfi\\n\\n# List all files in the current directory in a detailed list format\\nls -l\\n```\\n\\nThis script first checks if the `ls` command is available on the system. If it\\'s not, it will print an error message and exit. If the `ls` command is available, it will list all the files in the current directory in a detailed list format (`ls -l`). This format includes file permissions, number of links, owner, group, size, and time of last modification.')]}\n"
     ]
    }
   ],
   "source": [
    "\n",
    "# Instantiate your crew with a sequential process\n",
    "crew = Crew(\n",
    "  agents=[developer],\n",
    "  tasks=[task1,task2],\n",
    "  verbose=2, # You can set it to 1 or 2 to different logging levels\n",
    "  full_output=True,\n",
    ")\n",
    "\n",
    "# Get your crew to work!\n",
    "result = crew.kickoff()\n",
    "\n",
    "print(\"######################\")\n",
    "print(result)"
   ]
  }
 ],
 "metadata": {
  "kernelspec": {
   "display_name": "workshop-agents-DUG816Iy-py3.12",
   "language": "python",
   "name": "python3"
  },
  "language_info": {
   "codemirror_mode": {
    "name": "ipython",
    "version": 3
   },
   "file_extension": ".py",
   "mimetype": "text/x-python",
   "name": "python",
   "nbconvert_exporter": "python",
   "pygments_lexer": "ipython3",
   "version": "3.12.3"
  }
 },
 "nbformat": 4,
 "nbformat_minor": 2
}
