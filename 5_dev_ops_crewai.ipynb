{
 "cells": [
  {
   "cell_type": "code",
   "execution_count": 1,
   "metadata": {},
   "outputs": [
    {
     "name": "stdout",
     "output_type": "stream",
     "text": [
      "Note: you may need to restart the kernel to use updated packages.\n"
     ]
    }
   ],
   "source": [
    "%pip install crewai langchain langchain-openai --quiet"
   ]
  },
  {
   "cell_type": "code",
   "execution_count": 2,
   "metadata": {},
   "outputs": [
    {
     "name": "stdout",
     "output_type": "stream",
     "text": [
      "Note: you may need to restart the kernel to use updated packages.\n"
     ]
    },
    {
     "data": {
      "text/plain": [
       "True"
      ]
     },
     "execution_count": 2,
     "metadata": {},
     "output_type": "execute_result"
    }
   ],
   "source": [
    "%pip install python-dotenv --quiet\n",
    "import dotenv\n",
    "dotenv.load_dotenv()"
   ]
  },
  {
   "cell_type": "code",
   "execution_count": 3,
   "metadata": {},
   "outputs": [],
   "source": [
    "from crewai import Agent, Task, Crew, Process\n"
   ]
  },
  {
   "cell_type": "code",
   "execution_count": 4,
   "metadata": {},
   "outputs": [],
   "source": [
    "# Prepare the LLM for the agent to use\n",
    "from _callbacks import PrettyPrintCallbackHandler\n",
    "callback = PrettyPrintCallbackHandler()\n",
    "\n",
    "import _models, _settings\n",
    "llm=_models.get_llm(_settings.MODEL_NAME, callbacks=[callback])\n",
    "\n"
   ]
  },
  {
   "cell_type": "code",
   "execution_count": 5,
   "metadata": {},
   "outputs": [],
   "source": [
    "import _agents\n",
    "developer= _agents.get_agent_by_name(\"senior developer\",llm)\n",
    "ops = _agents.get_agent_by_name(\"senior devops\",llm)\n"
   ]
  },
  {
   "cell_type": "code",
   "execution_count": 7,
   "metadata": {},
   "outputs": [],
   "source": [
    "\n",
    "# Create tasks for your agents\n",
    "task1 = Task(\n",
    "  description=\"\"\"Generate me shell script that will list all files recursively in the current directory.\"\"\",\n",
    "  expected_output=\"A script shown as markdown code block\",\n",
    "  agent=developer,\n",
    "  llm=llm\n",
    ")"
   ]
  },
  {
   "cell_type": "code",
   "execution_count": 8,
   "metadata": {},
   "outputs": [],
   "source": [
    "# Create tasks for your agents\n",
    "task2 = Task(\n",
    "  description=\"\"\"Analyze a shell script and make sure it's compatible with most of the Linux systems.\"\"\",\n",
    "  expected_output=\"A script shown as markdown code block\",\n",
    "  agent=ops,\n",
    "  llm=llm\n",
    ")"
   ]
  },
  {
   "cell_type": "code",
   "execution_count": 9,
   "metadata": {},
   "outputs": [
    {
     "name": "stdout",
     "output_type": "stream",
     "text": [
      "\u001b[1m\u001b[95m [DEBUG]: == Working Agent: Senior Developer\u001b[00m\n",
      "\u001b[1m\u001b[95m [INFO]: == Starting Task: Generate me shell script that will list all files recursively in the current directory.\u001b[00m\n",
      "\n",
      "\n",
      "\u001b[1m> Entering new CrewAgentExecutor chain...\u001b[0m\n",
      "\u001b[32;1m\u001b[1;3mI can use the `find` command in a shell script to list all files recursively in the current directory. The `find` command is a powerful tool that allows you to search for files and directories in a directory hierarchy based on a user-given expression and can perform a variety of actions on the files that it finds.\n",
      "\n",
      "Final Answer:\n",
      "Here is the shell script that will list all files recursively in the current directory:\n",
      "\n",
      "```bash\n",
      "#!/bin/bash\n",
      "\n",
      "# This script will list all files recursively in the current directory\n",
      "\n",
      "find . -type f\n",
      "```\n",
      "\n",
      "To run this script, save it to a file, give it execute permissions using `chmod +x filename`, and then run it with `./filename`. It will print out a list of all files in the current directory and all subdirectories.\u001b[0m\n",
      "\n",
      "\u001b[1m> Finished chain.\u001b[0m\n",
      "\u001b[1m\u001b[92m [DEBUG]: == [Senior Developer] Task output: Here is the shell script that will list all files recursively in the current directory:\n",
      "\n",
      "```bash\n",
      "#!/bin/bash\n",
      "\n",
      "# This script will list all files recursively in the current directory\n",
      "\n",
      "find . -type f\n",
      "```\n",
      "\n",
      "To run this script, save it to a file, give it execute permissions using `chmod +x filename`, and then run it with `./filename`. It will print out a list of all files in the current directory and all subdirectories.\n",
      "\n",
      "\u001b[00m\n",
      "\u001b[1m\u001b[95m [DEBUG]: == Working Agent: Senior DevOps Engineer\u001b[00m\n",
      "\u001b[1m\u001b[95m [INFO]: == Starting Task: Analyze a shell script and make sure it's compatible with most of the Linux systems.\u001b[00m\n",
      "\n",
      "\n",
      "\u001b[1m> Entering new CrewAgentExecutor chain...\u001b[0m\n",
      "\u001b[32;1m\u001b[1;3mThe script seems to be simple and straightforward, using the `find` command which is a standard command available on all Linux systems. However, to ensure maximum compatibility, I will add a check at the beginning of the script to ensure that the `find` command is available on the system. If it's not, the script will print an error message and exit. This will prevent the script from failing silently if the `find` command is not available.\n",
      "\n",
      "Final Answer:\n",
      "\n",
      "```bash\n",
      "#!/bin/bash\n",
      "\n",
      "# This script will list all files recursively in the current directory\n",
      "\n",
      "# Check if 'find' command is available\n",
      "if ! command -v find &> /dev/null\n",
      "then\n",
      "    echo \"The 'find' command could not be found. Please install it and try again.\"\n",
      "    exit 1\n",
      "fi\n",
      "\n",
      "find . -type f\n",
      "```\n",
      "\n",
      "To run this script, save it to a file, give it execute permissions using `chmod +x filename`, and then run it with `./filename`. It will print out a list of all files in the current directory and all subdirectories. If the `find` command is not available on your system, the script will print an error message and exit.\u001b[0m\n",
      "\n",
      "\u001b[1m> Finished chain.\u001b[0m\n",
      "\u001b[1m\u001b[92m [DEBUG]: == [Senior DevOps Engineer] Task output: ```bash\n",
      "#!/bin/bash\n",
      "\n",
      "# This script will list all files recursively in the current directory\n",
      "\n",
      "# Check if 'find' command is available\n",
      "if ! command -v find &> /dev/null\n",
      "then\n",
      "    echo \"The 'find' command could not be found. Please install it and try again.\"\n",
      "    exit 1\n",
      "fi\n",
      "\n",
      "find . -type f\n",
      "```\n",
      "\n",
      "To run this script, save it to a file, give it execute permissions using `chmod +x filename`, and then run it with `./filename`. It will print out a list of all files in the current directory and all subdirectories. If the `find` command is not available on your system, the script will print an error message and exit.\n",
      "\n",
      "\u001b[00m\n",
      "######################\n",
      "{'final_output': '```bash\\n#!/bin/bash\\n\\n# This script will list all files recursively in the current directory\\n\\n# Check if \\'find\\' command is available\\nif ! command -v find &> /dev/null\\nthen\\n    echo \"The \\'find\\' command could not be found. Please install it and try again.\"\\n    exit 1\\nfi\\n\\nfind . -type f\\n```\\n\\nTo run this script, save it to a file, give it execute permissions using `chmod +x filename`, and then run it with `./filename`. It will print out a list of all files in the current directory and all subdirectories. If the `find` command is not available on your system, the script will print an error message and exit.', 'tasks_outputs': [TaskOutput(description='Generate me shell script that will list all files recursively in the current directory.', summary='Generate me shell script that will list all files recursively...', exported_output='Here is the shell script that will list all files recursively in the current directory:\\n\\n```bash\\n#!/bin/bash\\n\\n# This script will list all files recursively in the current directory\\n\\nfind . -type f\\n```\\n\\nTo run this script, save it to a file, give it execute permissions using `chmod +x filename`, and then run it with `./filename`. It will print out a list of all files in the current directory and all subdirectories.', raw_output='Here is the shell script that will list all files recursively in the current directory:\\n\\n```bash\\n#!/bin/bash\\n\\n# This script will list all files recursively in the current directory\\n\\nfind . -type f\\n```\\n\\nTo run this script, save it to a file, give it execute permissions using `chmod +x filename`, and then run it with `./filename`. It will print out a list of all files in the current directory and all subdirectories.'), TaskOutput(description=\"Analyze a shell script and make sure it's compatible with most of the Linux systems.\", summary=\"Analyze a shell script and make sure it's compatible with...\", exported_output='```bash\\n#!/bin/bash\\n\\n# This script will list all files recursively in the current directory\\n\\n# Check if \\'find\\' command is available\\nif ! command -v find &> /dev/null\\nthen\\n    echo \"The \\'find\\' command could not be found. Please install it and try again.\"\\n    exit 1\\nfi\\n\\nfind . -type f\\n```\\n\\nTo run this script, save it to a file, give it execute permissions using `chmod +x filename`, and then run it with `./filename`. It will print out a list of all files in the current directory and all subdirectories. If the `find` command is not available on your system, the script will print an error message and exit.', raw_output='```bash\\n#!/bin/bash\\n\\n# This script will list all files recursively in the current directory\\n\\n# Check if \\'find\\' command is available\\nif ! command -v find &> /dev/null\\nthen\\n    echo \"The \\'find\\' command could not be found. Please install it and try again.\"\\n    exit 1\\nfi\\n\\nfind . -type f\\n```\\n\\nTo run this script, save it to a file, give it execute permissions using `chmod +x filename`, and then run it with `./filename`. It will print out a list of all files in the current directory and all subdirectories. If the `find` command is not available on your system, the script will print an error message and exit.')]}\n"
     ]
    }
   ],
   "source": [
    "\n",
    "# Instantiate your crew with a sequential process\n",
    "crew = Crew(\n",
    "  agents=[developer],\n",
    "  tasks=[task1, task2],\n",
    "  verbose=2, # You can set it to 1 or 2 to different logging levels\n",
    "  full_output=True,\n",
    ")\n",
    "\n",
    "# Get your crew to work!\n",
    "result = crew.kickoff()\n",
    "\n",
    "print(\"######################\")\n",
    "print(result)"
   ]
  }
 ],
 "metadata": {
  "kernelspec": {
   "display_name": "workshop-agents-DUG816Iy-py3.12",
   "language": "python",
   "name": "python3"
  },
  "language_info": {
   "codemirror_mode": {
    "name": "ipython",
    "version": 3
   },
   "file_extension": ".py",
   "mimetype": "text/x-python",
   "name": "python",
   "nbconvert_exporter": "python",
   "pygments_lexer": "ipython3",
   "version": "3.12.3"
  }
 },
 "nbformat": 4,
 "nbformat_minor": 2
}
