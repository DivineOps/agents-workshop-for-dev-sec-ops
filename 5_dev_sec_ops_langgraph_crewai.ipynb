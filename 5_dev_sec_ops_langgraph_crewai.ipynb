{
 "cells": [
  {
   "cell_type": "markdown",
   "metadata": {},
   "source": [
    "# From this repo - https://github.com/joaomdmoura/crewAI-examples/tree/main/CrewAI-LangGraph"
   ]
  },
  {
   "cell_type": "code",
   "execution_count": null,
   "metadata": {},
   "outputs": [],
   "source": [
    "%pip install crewai langgraph --quiet"
   ]
  },
  {
   "cell_type": "code",
   "execution_count": null,
   "metadata": {},
   "outputs": [],
   "source": [
    "%pip install python-dotenv --quiet\n",
    "import dotenv\n",
    "dotenv.load_dotenv()"
   ]
  },
  {
   "cell_type": "code",
   "execution_count": null,
   "metadata": {},
   "outputs": [],
   "source": [
    "from langgraph.graph import StateGraph\n",
    "\n",
    "from typing import TypedDict, AnyStr\n",
    "\n",
    "class BashScriptState(TypedDict):\n",
    "\tsource: AnyStr\n",
    "\tapproved: bool "
   ]
  },
  {
   "cell_type": "code",
   "execution_count": null,
   "metadata": {},
   "outputs": [],
   "source": [
    "\n",
    "workflow = StateGraph(BashScriptState)\n",
    "\n",
    "workflow.add_node(\"ask_question\", ask_question)\n",
    "workflow.add_node(\"generate_script\", DevOpsCrew().kickoff)\n",
    "workflow.add_node(\"check_security\", check_security)\n",
    "\n",
    "workflow.set_entry_point(\"ask_question\")\n",
    "workflow.add_conditional_edges(\n",
    "\t\"ask_question\",\n",
    "\t\"generate_script\",\n",
    "\t{\n",
    "\t\t\"continue\": 'draft_responses',\n",
    "\t\t\"end\": 'check_security'\n",
    "\t\t}\n",
    ")\n",
    "workflow.add_edge('ask_question', 'generate_script')\n",
    "app = workflow.compile()"
   ]
  },
  {
   "cell_type": "code",
   "execution_count": null,
   "metadata": {},
   "outputs": [],
   "source": []
  }
 ],
 "metadata": {
  "language_info": {
   "name": "python"
  }
 },
 "nbformat": 4,
 "nbformat_minor": 2
}
