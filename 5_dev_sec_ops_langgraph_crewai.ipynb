{
 "cells": [
  {
   "cell_type": "markdown",
   "metadata": {},
   "source": [
    "# From this repo - https://github.com/joaomdmoura/crewAI-examples/tree/main/CrewAI-LangGraph"
   ]
  },
  {
   "cell_type": "code",
   "execution_count": 88,
   "metadata": {},
   "outputs": [
    {
     "name": "stdout",
     "output_type": "stream",
     "text": [
      "Note: you may need to restart the kernel to use updated packages.\n"
     ]
    }
   ],
   "source": [
    "%pip install crewai langgraph --quiet"
   ]
  },
  {
   "cell_type": "code",
   "execution_count": 89,
   "metadata": {},
   "outputs": [
    {
     "name": "stdout",
     "output_type": "stream",
     "text": [
      "Note: you may need to restart the kernel to use updated packages.\n"
     ]
    },
    {
     "data": {
      "text/plain": [
       "True"
      ]
     },
     "execution_count": 89,
     "metadata": {},
     "output_type": "execute_result"
    }
   ],
   "source": [
    "%pip install python-dotenv --quiet\n",
    "import dotenv\n",
    "dotenv.load_dotenv()"
   ]
  },
  {
   "cell_type": "code",
   "execution_count": 90,
   "metadata": {},
   "outputs": [],
   "source": [
    "from langgraph.graph import StateGraph\n",
    "\n",
    "from typing import TypedDict, Optional\n",
    "\n",
    "class BashScriptState(TypedDict):\n",
    "\tcode: Optional[str] = None\n",
    "\tvalid_markdown: bool\n",
    "\tvalid_bash: bool "
   ]
  },
  {
   "cell_type": "code",
   "execution_count": 91,
   "metadata": {},
   "outputs": [
    {
     "name": "stdout",
     "output_type": "stream",
     "text": [
      "{'code': '\\n\\t```bash\\n\\tls\\n\\t```\\n\\t', 'valid_markdown': None, 'valid_bash': None}\n",
      "{'code': '\\n\\t```bash\\n\\tls\\n\\t```\\n\\t', 'valid_markdown': True, 'valid_bash': None}\n",
      "{'code': '\\n\\t```bash\\n\\tls\\n\\t```\\n\\t', 'valid_markdown': True, 'valid_bash': True}\n",
      "Deploying code successfully\n",
      "{'code': '\\n\\t```bash\\n\\tls\\n\\t```\\n\\t', 'valid_markdown': True, 'valid_bash': True}\n"
     ]
    }
   ],
   "source": [
    "\n",
    "workflow = StateGraph(BashScriptState)\n",
    "\n",
    "def generate_bash_code_as_markdown_node(state: BashScriptState):\n",
    "\tstate[\"code\"] = \"\"\"\n",
    "\t```bash\n",
    "\tls\n",
    "\t```\n",
    "\t\"\"\"\n",
    "\treturn state\n",
    "\n",
    "def check_markdown_syntax_node(state: BashScriptState):\n",
    "\tstate[\"valid_markdown\"] = True\n",
    "\treturn state\n",
    "\n",
    "def check_bash_syntax_node(state: BashScriptState):\n",
    "\tstate[\"valid_bash\"] = True\n",
    "\treturn state\n",
    "\n",
    "\n",
    "def improve_code(state: BashScriptState):\n",
    "\treturn state\n",
    "\n",
    "def deploy_code(state: BashScriptState):\n",
    "\tprint(\"Deploying code successfully\")\n",
    "\treturn state\n",
    "\n",
    "def approve_code(state: BashScriptState):\n",
    "\tprint(state)\n",
    "\treturn \"valid\"\n",
    "\n",
    "workflow.add_node(\"generate_bash_code_as_markdown\", generate_bash_code_as_markdown_node)\n",
    "workflow.add_node(\"check_markdown_syntax\", check_markdown_syntax_node)\n",
    "workflow.add_node(\"check_bash_syntax\", check_bash_syntax_node)\n",
    "#workflow.add_node(\"improve_code\", DevOpsCrew().kickoff)\n",
    "\n",
    "workflow.add_node(\"improve_code\",improve_code)\n",
    "workflow.add_node(\"deploy_code\", deploy_code)\n",
    "\n",
    "workflow.set_entry_point(\"generate_bash_code_as_markdown\")\n",
    "\n",
    "workflow.add_conditional_edges(\n",
    "    \"generate_bash_code_as_markdown\",\n",
    "\tapprove_code,\n",
    "\t{\n",
    "\t\t\"valid\": \"check_markdown_syntax\",\n",
    "\t\t\"non_valid\": \"improve_code\"\n",
    "\t}\n",
    ")\n",
    "\n",
    "workflow.add_conditional_edges(\n",
    "\t\"check_markdown_syntax\",\n",
    "\tapprove_code,\n",
    "\t{\n",
    "\t\t\"valid\": \"check_bash_syntax\",\n",
    "\t\t\"non_valid\": \"improve_code\"\n",
    "\t}\n",
    ")\n",
    "\n",
    "\n",
    "workflow.add_conditional_edges(\n",
    "\t\"check_bash_syntax\",\n",
    "\tapprove_code,\n",
    "\t{\n",
    "\t\t\"valid\": \"deploy_code\",\n",
    "\t\t\"non_valid\": \"improve_code\"\n",
    "\t}\n",
    ")\n",
    "\n",
    "workflow.add_edge(\"improve_code\", \"check_markdown_syntax\")\n",
    "workflow.set_finish_point('deploy_code')\n",
    "\n",
    "app = workflow.compile()\n",
    "inputs = {\"question\": \"Generate a bash script as markdown that list the files in the current directory\"}\n",
    "result = app.invoke(inputs)\n",
    "print(result)"
   ]
  },
  {
   "cell_type": "code",
   "execution_count": null,
   "metadata": {},
   "outputs": [],
   "source": []
  }
 ],
 "metadata": {
  "kernelspec": {
   "display_name": "workshop-agents-DUG816Iy-py3.12",
   "language": "python",
   "name": "python3"
  },
  "language_info": {
   "codemirror_mode": {
    "name": "ipython",
    "version": 3
   },
   "file_extension": ".py",
   "mimetype": "text/x-python",
   "name": "python",
   "nbconvert_exporter": "python",
   "pygments_lexer": "ipython3",
   "version": "3.12.3"
  }
 },
 "nbformat": 4,
 "nbformat_minor": 2
}
